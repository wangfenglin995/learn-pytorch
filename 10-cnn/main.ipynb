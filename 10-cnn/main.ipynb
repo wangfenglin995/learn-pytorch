{
 "cells": [
  {
   "cell_type": "code",
   "execution_count": 1,
   "metadata": {},
   "outputs": [
    {
     "name": "stdout",
     "output_type": "stream",
     "text": [
      "torch.Size([1, 5, 100, 100])\n",
      "torch.Size([1, 10, 98, 98])\n",
      "torch.Size([10, 5, 3, 3])\n"
     ]
    }
   ],
   "source": [
    "import torch\n",
    "\n",
    "in_channels, out_channels = 5, 10\n",
    "width, height = 100, 100\n",
    "kernel_size = 3\n",
    "batch_size = 1\n",
    "\n",
    "input = torch.randn(batch_size, in_channels, width, height)\n",
    "\n",
    "conv_layer = torch.nn.Conv2d(in_channels,\n",
    "                             out_channels,\n",
    "                             kernel_size=kernel_size)\n",
    "\n",
    "output = conv_layer(input)\n",
    "\n",
    "print(input.shape)\n",
    "print(output.shape)\n",
    "print(conv_layer.weight.shape)\n",
    "\n",
    "\"\"\"\n",
    "torch.Size([1, 5, 100, 100]) 5：输入通道数\n",
    "torch.Size([1, 10, 98, 98]) 10:输出通道数\n",
    "torch.Size([10, 5, 3, 3])  10：卷积核个数\n",
    "\"\"\""
   ]
  },
  {
   "cell_type": "code",
   "execution_count": 2,
   "metadata": {},
   "outputs": [
    {
     "name": "stdout",
     "output_type": "stream",
     "text": [
      "tensor([[[[ 91., 162., 225., 216., 131.],\n",
      "          [114., 208., 296., 263., 150.],\n",
      "          [192., 259., 282., 214., 122.],\n",
      "          [194., 251., 253., 169.,  86.],\n",
      "          [ 96., 112., 110.,  68.,  31.]]]], grad_fn=<ConvolutionBackward0>)\n"
     ]
    }
   ],
   "source": [
    "import torch\n",
    "\n",
    "input = [3,4,5,6,7,\n",
    "         2,4,6,8,2,\n",
    "         1,6,7,8,4,\n",
    "         9,7,4,6,2,\n",
    "         3,7,5,4,1]\n",
    "input = torch.Tensor(input).view(1, 1, 5, 5) # (B, C, W, H)\n",
    "\n",
    "conv_layer = torch.nn.Conv2d(1, 1, kernel_size=3, padding=1, bias=False)\n",
    "\n",
    "kernel = torch.Tensor([1,2,3,4,5,6,7,8,9]).view(1, 1, 3, 3)\n",
    "conv_layer.weight.data = kernel.data\n",
    "\n",
    "output = conv_layer(input)\n",
    "print(output)"
   ]
  },
  {
   "cell_type": "code",
   "execution_count": 3,
   "metadata": {},
   "outputs": [
    {
     "name": "stdout",
     "output_type": "stream",
     "text": [
      "tensor([[[[208., 263.],\n",
      "          [251., 169.]]]], grad_fn=<ConvolutionBackward0>)\n"
     ]
    }
   ],
   "source": [
    "import torch\n",
    "\n",
    "input = [3,4,5,6,7,\n",
    "         2,4,6,8,2,\n",
    "         1,6,7,8,4,\n",
    "         9,7,4,6,2,\n",
    "         3,7,5,4,1]\n",
    "input = torch.Tensor(input).view(1, 1, 5, 5) # (B, C, W, H)\n",
    "\n",
    "conv_layer = torch.nn.Conv2d(1, 1, kernel_size=3, stride=2, bias=False)\n",
    "\n",
    "kernel = torch.Tensor([1,2,3,4,5,6,7,8,9]).view(1, 1, 3, 3)\n",
    "conv_layer.weight.data = kernel.data\n",
    "\n",
    "output = conv_layer(input)\n",
    "print(output)"
   ]
  },
  {
   "cell_type": "code",
   "execution_count": 5,
   "metadata": {},
   "outputs": [
    {
     "name": "stdout",
     "output_type": "stream",
     "text": [
      "tensor([[[[4., 8.],\n",
      "          [9., 8.]]]])\n"
     ]
    }
   ],
   "source": [
    "import torch\n",
    "\n",
    "input = [3,4,6,5,\n",
    "         2,4,6,8,\n",
    "         1,6,7,8,\n",
    "         9,7,4,6,]\n",
    "input = torch.Tensor(input).view(1, 1, 4, 4)\n",
    "\n",
    "maxpooling_layer = torch.nn.MaxPool2d(kernel_size=2)\n",
    "\n",
    "output = maxpooling_layer(input)\n",
    "print(output)"
   ]
  }
 ],
 "metadata": {
  "kernelspec": {
   "display_name": "base",
   "language": "python",
   "name": "python3"
  },
  "language_info": {
   "codemirror_mode": {
    "name": "ipython",
    "version": 3
   },
   "file_extension": ".py",
   "mimetype": "text/x-python",
   "name": "python",
   "nbconvert_exporter": "python",
   "pygments_lexer": "ipython3",
   "version": "3.11.4"
  }
 },
 "nbformat": 4,
 "nbformat_minor": 2
}
